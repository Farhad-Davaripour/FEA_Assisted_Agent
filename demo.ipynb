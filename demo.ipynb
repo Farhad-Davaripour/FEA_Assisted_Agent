{
 "cells": [
  {
   "cell_type": "markdown",
   "metadata": {},
   "source": [
    "## Setup"
   ]
  },
  {
   "cell_type": "code",
   "execution_count": 28,
   "metadata": {},
   "outputs": [],
   "source": [
    "import os\n",
    "import subprocess\n",
    "import shutil\n",
    "import importlib\n",
    "import src.tools as tools\n",
    "importlib.reload(tools)\n",
    "from src.tools import generate_input_file, run_abaqus, extract_von_mises_stress_from_ODB"
   ]
  },
  {
   "cell_type": "markdown",
   "metadata": {},
   "source": [
    "## Create Model"
   ]
  },
  {
   "cell_type": "code",
   "execution_count": 29,
   "metadata": {},
   "outputs": [
    {
     "name": "stdout",
     "output_type": "stream",
     "text": [
      "Input file generated successfully.\n"
     ]
    }
   ],
   "source": [
    "generate_input_file(0.01)"
   ]
  },
  {
   "cell_type": "code",
   "execution_count": 30,
   "metadata": {},
   "outputs": [
    {
     "name": "stdout",
     "output_type": "stream",
     "text": [
      "Abaqus job completed successfully.\n"
     ]
    }
   ],
   "source": [
    "# Run the function with the updated parameters\n",
    "run_abaqus()"
   ]
  },
  {
   "cell_type": "code",
   "execution_count": 31,
   "metadata": {},
   "outputs": [
    {
     "name": "stdout",
     "output_type": "stream",
     "text": [
      "Von-Mises stress data extracted successfully.\n",
      "Maximum Mises stress in the cantilever beam is 137642400.000000\n",
      "\n"
     ]
    }
   ],
   "source": [
    "vm_stress = extract_von_mises_stress_from_ODB()\n",
    "print(vm_stress)"
   ]
  }
 ],
 "metadata": {
  "kernelspec": {
   "display_name": ".venv",
   "language": "python",
   "name": "python3"
  },
  "language_info": {
   "codemirror_mode": {
    "name": "ipython",
    "version": 3
   },
   "file_extension": ".py",
   "mimetype": "text/x-python",
   "name": "python",
   "nbconvert_exporter": "python",
   "pygments_lexer": "ipython3",
   "version": "3.11.9"
  }
 },
 "nbformat": 4,
 "nbformat_minor": 2
}
