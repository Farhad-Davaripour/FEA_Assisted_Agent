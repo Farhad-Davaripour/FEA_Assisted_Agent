{
 "cells": [
  {
   "cell_type": "markdown",
   "metadata": {},
   "source": [
    "## Setup"
   ]
  },
  {
   "cell_type": "code",
   "execution_count": 20,
   "metadata": {},
   "outputs": [],
   "source": [
    "import os\n",
    "import subprocess\n",
    "import shutil"
   ]
  },
  {
   "cell_type": "markdown",
   "metadata": {},
   "source": [
    "## Create Model"
   ]
  },
  {
   "cell_type": "code",
   "execution_count": 21,
   "metadata": {},
   "outputs": [],
   "source": [
    "\n",
    "def create_model(model_name):\n",
    "    command = f\"abaqus cae noGUI=.\\{model_name}.py\"\n",
    "    try:\n",
    "        subprocess.run(command, shell=True, check=True, stdout=subprocess.PIPE, stderr=subprocess.PIPE, text=True)\n",
    "        print(\"Abaqus job completed successfully.\")\n",
    "\n",
    "        # Define the source and destination paths\n",
    "        source_path = 'cantilever_beam.inp'\n",
    "        destination_path = 'src/abaqus_files/cantilever_beam.inp'\n",
    "\n",
    "        # Move the file\n",
    "        shutil.move(source_path, destination_path)\n",
    "        print(\"File moved successfully.\")\n",
    "\n",
    "    except subprocess.CalledProcessError as e:\n",
    "        print(\"Error during Abaqus job execution.\")\n",
    "        print(\"Error output:\", e.stderr)\n"
   ]
  },
  {
   "cell_type": "code",
   "execution_count": 22,
   "metadata": {},
   "outputs": [
    {
     "name": "stdout",
     "output_type": "stream",
     "text": [
      "Abaqus job completed successfully.\n",
      "File moved successfully.\n"
     ]
    }
   ],
   "source": [
    "create_model(\"src/utils/create_model\")"
   ]
  },
  {
   "cell_type": "code",
   "execution_count": 4,
   "metadata": {},
   "outputs": [],
   "source": [
    "def run_abaqus(job_name, input_file, target_directory):\n",
    "    # Run the Abaqus job\n",
    "    command = f\"abaqus job={job_name} input={input_file}\"\n",
    "    try:\n",
    "        subprocess.run(command, shell=True, check=True, stdout=subprocess.PIPE, stderr=subprocess.PIPE, text=True)\n",
    "        print(\"Abaqus job completed successfully.\")\n",
    "        \n",
    "        # Define the source directory\n",
    "        source_directory = os.getcwd()  # Assumes Abaqus outputs files in the current working directory\n",
    "\n",
    "        # Loop through files in the source directory\n",
    "        for file_name in os.listdir(source_directory):\n",
    "            source_path = os.path.join(source_directory, file_name)\n",
    "            if os.path.isfile(source_path) and file_name.startswith(job_name):\n",
    "                target_path = os.path.join(target_directory, file_name)\n",
    "                shutil.move(source_path, target_path)\n",
    "                print(f\"Moved {file_name} to {target_directory}\")\n",
    "    except subprocess.CalledProcessError as e:\n",
    "        print(\"Error during Abaqus job execution.\")\n",
    "        print(\"Error output:\", e.stderr)"
   ]
  },
  {
   "cell_type": "code",
   "execution_count": 5,
   "metadata": {},
   "outputs": [
    {
     "name": "stdout",
     "output_type": "stream",
     "text": [
      "Abaqus job completed successfully.\n",
      "Moved cantilever_beam.com to src/abaqus_files\n",
      "Moved cantilever_beam.dat to src/abaqus_files\n",
      "Moved cantilever_beam.log to src/abaqus_files\n",
      "Moved cantilever_beam.msg to src/abaqus_files\n",
      "Moved cantilever_beam.odb to src/abaqus_files\n",
      "Moved cantilever_beam.prt to src/abaqus_files\n",
      "Moved cantilever_beam.sta to src/abaqus_files\n"
     ]
    }
   ],
   "source": [
    "# Define job parameters\n",
    "job_name = \"cantilever_beam\"\n",
    "input_file = \"src/abaqus_files/cantilever_beam.inp\"\n",
    "target_directory = \"src/abaqus_files\"  # Directory to move .odb files to\n",
    "\n",
    "# Run the function with the updated parameters\n",
    "run_abaqus(job_name, input_file, target_directory)"
   ]
  },
  {
   "cell_type": "code",
   "execution_count": 6,
   "metadata": {},
   "outputs": [],
   "source": [
    "def run_extract_stress(extract_stress_path, target_directory):\n",
    "    command = f\"abaqus python {extract_stress_path}.py\"\n",
    "    try:\n",
    "        result = subprocess.run(command, shell=True, check=True, stdout=subprocess.PIPE, stderr=subprocess.PIPE, text=True)\n",
    "        print(\"Abaqus job completed successfully.\")\n",
    "        print(\"Output:\", result.stdout)\n",
    "\n",
    "        # Check if the target file exists\n",
    "        source_file = os.path.join(os.getcwd(), \"max_vm_stress.txt\")\n",
    "        if os.path.exists(source_file):\n",
    "            # Ensure the target directory exists\n",
    "            os.makedirs(target_directory, exist_ok=True)\n",
    "\n",
    "            # Move the file to the target directory\n",
    "            target_file = os.path.join(target_directory, \"max_vm_stress.txt\")\n",
    "            shutil.move(source_file, target_file)\n",
    "            print(f\"Moved {source_file} to {target_file}\")\n",
    "\n",
    "    except subprocess.CalledProcessError as e:\n",
    "        print(\"Error during Abaqus job execution.\")\n",
    "        print(\"Error output:\", e.stderr)"
   ]
  },
  {
   "cell_type": "code",
   "execution_count": 7,
   "metadata": {},
   "outputs": [
    {
     "name": "stdout",
     "output_type": "stream",
     "text": [
      "Abaqus job completed successfully.\n",
      "Output: Maximum Mises stress in the cantilever beam is 136533456.000000\n",
      "\n",
      "Moved c:\\Users\\Farhad.Davaripour\\Repositories\\ReAct_agent_integration_w_FEA\\max_vm_stress.txt to src/abaqus_files\\max_vm_stress.txt\n"
     ]
    }
   ],
   "source": [
    "extract_stress_path = \"src/utils/retrieve_vm_stress\"\n",
    "target_directory = \"src/abaqus_files\"\n",
    "run_extract_stress(extract_stress_path,target_directory )"
   ]
  },
  {
   "cell_type": "code",
   "execution_count": 15,
   "metadata": {},
   "outputs": [],
   "source": [
    "def parse_stress_data(file_path):\n",
    "    parsed_data = []\n",
    "    \n",
    "    # Open and read the file line by line\n",
    "    with open(file_path, 'r') as file:\n",
    "        for line in file:\n",
    "            line = line.strip()  # Remove any trailing whitespace\n",
    "            \n",
    "            # Check if the line contains data of interest\n",
    "            if \"Mises stress\" in line:\n",
    "                mises_stress = float(line.split(\"is \")[-1].strip())\n",
    "                # Append the parsed data as a dictionary\n",
    "                parsed_data.append({\n",
    "                    \"von-Mises Stress\": f\"{round(mises_stress/10e6, 2)} MPA\"\n",
    "                })\n",
    "    \n",
    "    return parsed_data"
   ]
  },
  {
   "cell_type": "code",
   "execution_count": 16,
   "metadata": {},
   "outputs": [
    {
     "name": "stdout",
     "output_type": "stream",
     "text": [
      "{'von-Mises Stress': '13.65 MPA'}\n"
     ]
    }
   ],
   "source": [
    "# Parse the data file\n",
    "data = parse_stress_data('src/abaqus_files/max_vm_stress.txt')\n",
    "\n",
    "# Display parsed data\n",
    "for entry in data:\n",
    "    print(entry)"
   ]
  }
 ],
 "metadata": {
  "kernelspec": {
   "display_name": ".venv",
   "language": "python",
   "name": "python3"
  },
  "language_info": {
   "codemirror_mode": {
    "name": "ipython",
    "version": 3
   },
   "file_extension": ".py",
   "mimetype": "text/x-python",
   "name": "python",
   "nbconvert_exporter": "python",
   "pygments_lexer": "ipython3",
   "version": "3.11.9"
  }
 },
 "nbformat": 4,
 "nbformat_minor": 2
}
